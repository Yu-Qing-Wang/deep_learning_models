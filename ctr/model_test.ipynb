{
 "metadata": {
  "language_info": {
   "codemirror_mode": {
    "name": "ipython",
    "version": 3
   },
   "file_extension": ".py",
   "mimetype": "text/x-python",
   "name": "python",
   "nbconvert_exporter": "python",
   "pygments_lexer": "ipython3",
   "version": "3.7.6-final"
  },
  "orig_nbformat": 2,
  "kernelspec": {
   "name": "python3",
   "display_name": "Python 3",
   "language": "python"
  }
 },
 "nbformat": 4,
 "nbformat_minor": 2,
 "cells": [
  {
   "cell_type": "code",
   "execution_count": 1,
   "metadata": {},
   "outputs": [],
   "source": [
    "import DeepFM\n",
    "import numpy as np\n",
    "import tensorflow as tf\n",
    "from tensorflow.keras.layers import Embedding, Dense, Activation, Layer\n",
    "import random"
   ]
  },
  {
   "cell_type": "code",
   "execution_count": 2,
   "metadata": {},
   "outputs": [],
   "source": [
    "dim, feature_names, feature_sizes, batch_size, deep_dense_out_dim = 3, [\"a\", \"b\", \"c\"], [3, 2, 2], 2, [3, 1]"
   ]
  },
  {
   "cell_type": "code",
   "execution_count": 3,
   "metadata": {},
   "outputs": [],
   "source": [
    "model = DeepFM.DeepFM(dim, feature_names, feature_sizes, batch_size, deep_dense_out_dim)"
   ]
  },
  {
   "cell_type": "code",
   "execution_count": 4,
   "metadata": {},
   "outputs": [],
   "source": [
    "# trigger the lazy tensors\n",
    "[x(0) for x in model.features_embeds]\n",
    "model.fm_bias(tf.constant([1.0, 2.0, 3.0]))\n",
    "[x(0) for x in model.fm_dense]\n",
    "\n",
    "# deep part input size is (batch_size, n_fea*dim)\n",
    "out = tf.constant([[random.random() for _ in range(len(feature_names)*dim)]])\n",
    "for l in model.deep_dense_layers:\n",
    "    out = l(out)"
   ]
  },
  {
   "cell_type": "code",
   "execution_count": 5,
   "metadata": {},
   "outputs": [
    {
     "output_type": "stream",
     "name": "stdout",
     "text": [
      "------- feature-0 embedding vectors -------\n[[ 0.01288019  0.03272445 -0.01649339]\n [ 0.04020175 -0.00628924  0.00319413]\n [ 0.00949966  0.02584275  0.02168764]]\n\n------- feature-1 embedding vectors -------\n[[ 0.0129966  -0.02178497  0.04210693]\n [-0.01770421 -0.00483744  0.00950954]]\n\n------- feature-2 embedding vectors -------\n[[ 0.04772587  0.04583821 -0.0478565 ]\n [-0.00487811 -0.01407316 -0.02572885]]\n\n------- fm dense -------\n------ fm feature-0 dense w lookup ------\n[[0.01222704]\n [0.04848984]\n [0.04873163]]\n------ fm feature-1 dense w lookup ------\n[[-0.01674583]\n [-0.04932194]]\n------ fm feature-2 dense w lookup ------\n[[0.00101062]\n [0.00623454]]\n------- fm bias -------\n[-0.084661]\n"
     ]
    }
   ],
   "source": [
    "# model parameters\n",
    "for i, embed_layer in enumerate(model.features_embeds):\n",
    "    print(\"------- feature-{} embedding vectors -------\".format(i))\n",
    "    print(embed_layer.weights[0].numpy())\n",
    "    print()\n",
    "\n",
    "print(\"------- fm dense -------\")\n",
    "for i, fea_dense_w_lookup in enumerate(model.fm_dense):\n",
    "    print(\"------ fm feature-{} dense w lookup ------\".format(i))\n",
    "    print(fea_dense_w_lookup.weights[0].numpy())\n",
    "\n",
    "print(\"------- fm bias -------\")\n",
    "print(model.fm_bias.weights[0].numpy())\n"
   ]
  },
  {
   "cell_type": "code",
   "execution_count": 6,
   "metadata": {},
   "outputs": [
    {
     "output_type": "stream",
     "name": "stdout",
     "text": [
      "------- deep dense -------\n---------- deep dense-0 layer ----------\nweights:\n[[-0.06075704 -0.45923695  0.1717745 ]\n [-0.6454746  -0.00456971  0.36452907]\n [ 0.33800882  0.36106378 -0.64581275]\n [ 0.26727337 -0.03098249  0.6380921 ]\n [-0.3135201   0.33219272  0.23493767]\n [-0.04501891 -0.3936964  -0.19730657]\n [-0.5929896   0.5451148   0.63756806]\n [ 0.50880164 -0.16037196 -0.37451488]\n [ 0.47448808  0.37647945 -0.16552669]]\nbias:\n[0. 0. 0.]\n---------- deep dense-1 layer ----------\nweights:\n[[ 0.88652265]\n [-0.04007936]\n [ 0.16886973]]\nbias:\n[0.]\n"
     ]
    }
   ],
   "source": [
    "print(\"------- deep dense -------\")\n",
    "for i, dense_layer in enumerate(model.deep_dense_layers):\n",
    "    print(\"---------- deep dense-{} layer ----------\".format(i))\n",
    "    print(\"weights:\")\n",
    "    print(dense_layer.weights[0].numpy())\n",
    "    print(\"bias:\")\n",
    "    print(dense_layer.weights[1].numpy())"
   ]
  },
  {
   "cell_type": "code",
   "execution_count": 7,
   "metadata": {},
   "outputs": [
    {
     "output_type": "stream",
     "name": "stdout",
     "text": [
      "fm part\n[-0.11990618 -0.04691842]\ndeep part\nfeature embeds concated:\n[[ 0.01288019  0.03272445 -0.01649339 -0.01770421 -0.00483744  0.00950954\n   0.04772587  0.04583821 -0.0478565 ]\n [ 0.04020175 -0.00628924  0.00319413  0.0129966  -0.02178497  0.04210693\n  -0.00487811 -0.01407316 -0.02572885]]\n\ndeep layer 0 out\n[[0.         0.         0.03166636]\n [0.         0.         0.00383644]]\n\ndeep layer 1 out\n[[0.00534749]\n [0.00064786]]\n\n[0.00534749 0.00064786]\n\nfeature embeds concated:\n[[ 0.01288019  0.03272445 -0.01649339 -0.01770421 -0.00483744  0.00950954\n   0.04772587  0.04583821 -0.0478565 ]\n [ 0.04020175 -0.00628924  0.00319413  0.0129966  -0.02178497  0.04210693\n  -0.00487811 -0.01407316 -0.02572885]]\n\ndeep layer 0 out\n[[0.         0.         0.03166636]\n [0.         0.         0.00383644]]\n\ndeep layer 1 out\n[[0.00534749]\n [0.00064786]]\n\npred\ntf.Tensor([0.47139162 0.48843443], shape=(2,), dtype=float32)\n"
     ]
    }
   ],
   "source": [
    "# test data\n",
    "samples = [[0, 1, 0], [1, 0, 1]]\n",
    "dataset = tf.data.Dataset.from_tensor_slices(samples)\n",
    "dataset = dataset.batch(batch_size)\n",
    "\n",
    "for batch in dataset:\n",
    "    batch_pre = model(batch)\n",
    "    print(\"pred\")\n",
    "    print(batch_pre)"
   ]
  },
  {
   "cell_type": "code",
   "execution_count": 16,
   "metadata": {},
   "outputs": [
    {
     "output_type": "execute_result",
     "data": {
      "text/plain": [
       "array([[0.        , 0.        , 0.03166636]], dtype=float32)"
      ]
     },
     "metadata": {},
     "execution_count": 16
    }
   ],
   "source": [
    "\n",
    "model.deep_dense_layers[0](tf.constant([[ 0.01288019,  0.03272445, -0.01649339, -0.01770421, -0.00483744,  0.00950954,0.04772587,  0.04583821, -0.0478565 ]])).numpy()"
   ]
  },
  {
   "cell_type": "code",
   "execution_count": 17,
   "metadata": {},
   "outputs": [
    {
     "output_type": "execute_result",
     "data": {
      "text/plain": [
       "<tf.Tensor: shape=(1, 3), dtype=float32, numpy=array([[-0.05880934, -0.01617415,  0.03166636]], dtype=float32)>"
      ]
     },
     "metadata": {},
     "execution_count": 17
    }
   ],
   "source": [
    "tf.matmul(tf.constant([[ 0.01288019,  0.03272445, -0.01649339, -0.01770421, -0.00483744,  0.00950954,0.04772587,  0.04583821, -0.0478565 ]]), model.deep_dense_layers[0].weights[0])"
   ]
  },
  {
   "cell_type": "code",
   "execution_count": 14,
   "metadata": {},
   "outputs": [
    {
     "output_type": "execute_result",
     "data": {
      "text/plain": [
       "<tf.Variable 'deep_dense_0/kernel:0' shape=(9, 3) dtype=float32, numpy=\n",
       "array([[-0.06075704, -0.45923695,  0.1717745 ],\n",
       "       [-0.6454746 , -0.00456971,  0.36452907],\n",
       "       [ 0.33800882,  0.36106378, -0.64581275],\n",
       "       [ 0.26727337, -0.03098249,  0.6380921 ],\n",
       "       [-0.3135201 ,  0.33219272,  0.23493767],\n",
       "       [-0.04501891, -0.3936964 , -0.19730657],\n",
       "       [-0.5929896 ,  0.5451148 ,  0.63756806],\n",
       "       [ 0.50880164, -0.16037196, -0.37451488],\n",
       "       [ 0.47448808,  0.37647945, -0.16552669]], dtype=float32)>"
      ]
     },
     "metadata": {},
     "execution_count": 14
    }
   ],
   "source": [
    "model.deep_dense_layers[0].weights[0]"
   ]
  },
  {
   "cell_type": "code",
   "execution_count": 15,
   "metadata": {},
   "outputs": [
    {
     "output_type": "execute_result",
     "data": {
      "text/plain": [
       "<tf.Variable 'deep_dense_0/bias:0' shape=(3,) dtype=float32, numpy=array([0., 0., 0.], dtype=float32)>"
      ]
     },
     "metadata": {},
     "execution_count": 15
    }
   ],
   "source": [
    "model.deep_dense_layers[0].weights[1]"
   ]
  },
  {
   "cell_type": "code",
   "execution_count": null,
   "metadata": {},
   "outputs": [],
   "source": []
  }
 ]
}