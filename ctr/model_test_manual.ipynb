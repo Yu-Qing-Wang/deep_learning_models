{
 "metadata": {
  "language_info": {
   "codemirror_mode": {
    "name": "ipython",
    "version": 3
   },
   "file_extension": ".py",
   "mimetype": "text/x-python",
   "name": "python",
   "nbconvert_exporter": "python",
   "pygments_lexer": "ipython3",
   "version": "3.7.6-final"
  },
  "orig_nbformat": 2,
  "kernelspec": {
   "name": "python3",
   "display_name": "Python 3",
   "language": "python"
  }
 },
 "nbformat": 4,
 "nbformat_minor": 2,
 "cells": [
  {
   "cell_type": "code",
   "execution_count": 2,
   "metadata": {},
   "outputs": [],
   "source": [
    "import numpy as np\n",
    "import tensorflow as tf\n",
    "from tensorflow.keras.layers import Embedding, Dense, Activation, Layer"
   ]
  },
  {
   "cell_type": "code",
   "execution_count": 60,
   "metadata": {},
   "outputs": [],
   "source": [
    "sample1, sample2 = [0, 1, 0], [1, 0, 1]\n",
    "\n",
    "sample1_fea_embed = tf.constant(\n",
    "    [[ 0.01288019,  0.03272445, -0.01649339],\n",
    "     [ -0.01770421, -0.00483744,  0.00950954],\n",
    "     [ 0.04772587,  0.04583821, -0.0478565]]\n",
    ")\n",
    "sample2_fea_embed = tf.constant(\n",
    "    [[0.04020175, -0.00628924,  0.00319413],\n",
    "     [0.0129966,  -0.02178497,  0.04210693],\n",
    "     [-0.00487811, -0.01407316, -0.02572885]]\n",
    ")\n",
    "\n",
    "fm_dense_sample1 = tf.constant([0.01222704, -0.04932194, 0.00101062])\n",
    "fm_dense_sample2 = tf.constant([0.04848984, -0.01674583, 0.00623454])\n",
    "\n",
    "fm_bias = tf.constant([-0.084661])\n",
    "\n",
    "deep_dense_1 = tf.constant(\n",
    "[[-0.06075704, -0.45923695,  0.1717745 ],\n",
    " [-0.6454746,  -0.00456971,  0.36452907],\n",
    " [ 0.33800882,  0.36106378, -0.64581275],\n",
    " [ 0.26727337, -0.03098249,  0.6380921 ],\n",
    " [-0.3135201,   0.33219272,  0.23493767],\n",
    " [-0.04501891, -0.3936964,  -0.19730657],\n",
    " [-0.5929896,   0.5451148,   0.63756806],\n",
    " [ 0.50880164, -0.16037196, -0.37451488],\n",
    " [ 0.47448808,  0.37647945, -0.16552669]]\n",
    ")\n",
    "deep_bias_1 = tf.constant([0., 0., 0.])\n",
    "deep_dense_2 = tf.constant(\n",
    "[[ 0.88652265],\n",
    " [-0.04007936],\n",
    " [ 0.16886973]]\n",
    ")\n",
    "deep_bias_2 = tf.constant([0.])"
   ]
  },
  {
   "cell_type": "code",
   "execution_count": 77,
   "metadata": {},
   "outputs": [
    {
     "output_type": "stream",
     "name": "stdout",
     "text": [
      "sample1 one order\n-0.03608428\n\nsample2 one order\n0.037978552\n\nsample1 two order\n0.0008391021\n\nsample2 two order\n-0.0002359667\n\nsample1 fm out\n[[-0.11990617]]\nsample2 fm out\n[[-0.04691841]]\n"
     ]
    }
   ],
   "source": [
    "# fm part\n",
    "sample1_one_order = \\\n",
    "    tf.reduce_sum(fm_dense_sample1)\n",
    "print(\"sample1 one order\")\n",
    "print(sample1_one_order.numpy())\n",
    "print()\n",
    "\n",
    "sample2_one_order = \\\n",
    "    tf.reduce_sum(fm_dense_sample2)\n",
    "print(\"sample2 one order\")\n",
    "print(sample2_one_order.numpy())\n",
    "print()\n",
    "\n",
    "sample1_two_order = \\\n",
    "    tf.matmul(tf.expand_dims(sample1_fea_embed[0], axis=0), tf.expand_dims(sample1_fea_embed[1], axis=-1)) + \\\n",
    "    tf.matmul(tf.expand_dims(sample1_fea_embed[0], axis=0), tf.expand_dims(sample1_fea_embed[2], axis=-1)) + \\\n",
    "    tf.matmul(tf.expand_dims(sample1_fea_embed[1], axis=0), tf.expand_dims(sample1_fea_embed[2], axis=-1))\n",
    "print(\"sample1 two order\")\n",
    "print(tf.squeeze(sample1_two_order).numpy())\n",
    "print()\n",
    "\n",
    "sample2_two_order = \\\n",
    "    tf.matmul(tf.expand_dims(sample2_fea_embed[0], axis=0), tf.expand_dims(sample2_fea_embed[1], axis=-1)) + \\\n",
    "    tf.matmul(tf.expand_dims(sample2_fea_embed[0], axis=0), tf.expand_dims(sample2_fea_embed[2], axis=-1)) + \\\n",
    "    tf.matmul(tf.expand_dims(sample2_fea_embed[1], axis=0), tf.expand_dims(sample2_fea_embed[2], axis=-1))\n",
    "print(\"sample2 two order\")\n",
    "print(tf.squeeze(sample2_two_order).numpy())\n",
    "print()\n",
    "\n",
    "print(\"sample1 fm out\")\n",
    "sample1_fm_out = sample1_one_order + sample1_two_order + fm_bias\n",
    "print(sample1_fm_out.numpy())\n",
    "\n",
    "print(\"sample2 fm out\")\n",
    "sample2_fm_out = sample2_one_order + sample2_two_order + fm_bias\n",
    "print(sample2_fm_out.numpy())"
   ]
  },
  {
   "cell_type": "code",
   "execution_count": 62,
   "metadata": {},
   "outputs": [],
   "source": [
    "# deep part\n",
    "sample1_fea_embed_concated = tf.expand_dims(tf.reshape(sample1_fea_embed, (-1, )), 0)\n",
    "sample2_fea_embed_concated = tf.expand_dims(tf.reshape(sample2_fea_embed, (-1, )), 0)"
   ]
  },
  {
   "cell_type": "code",
   "execution_count": 76,
   "metadata": {},
   "outputs": [
    {
     "output_type": "stream",
     "name": "stdout",
     "text": [
      "sample1 deep1 out\n[[0.         0.         0.03166636]]\nsample1 deep2 out\n[[0.00534749]]\nsample2 deep1 out\n[[0.         0.         0.00383645]]\nsample2 deep2 out\n[[0.00064786]]\n"
     ]
    }
   ],
   "source": [
    "sample1_deep1_out = tf.matmul(sample1_fea_embed_concated, deep_dense_1) + deep_bias_1\n",
    "sample1_deep1_out = tf.nn.relu(sample1_deep1_out)\n",
    "print(\"sample1 deep1 out\")\n",
    "print(sample1_deep1_out.numpy())\n",
    "\n",
    "sample1_deep2_out = tf.matmul(sample1_deep1_out, deep_dense_2) + deep_bias_2\n",
    "sample1_deep2_out = tf.nn.relu(sample1_deep2_out)\n",
    "print(\"sample1 deep2 out\")\n",
    "print(sample1_deep2_out.numpy())\n",
    "\n",
    "sample2_deep1_out = tf.matmul(sample2_fea_embed_concated, deep_dense_1) + deep_bias_1\n",
    "sample2_deep1_out = tf.nn.relu(sample2_deep1_out)\n",
    "print(\"sample2 deep1 out\")\n",
    "print(sample2_deep1_out.numpy())\n",
    "\n",
    "sample2_deep2_out = tf.matmul(sample2_deep1_out, deep_dense_2) + deep_bias_2\n",
    "sample2_deep2_out = tf.nn.relu(sample2_deep2_out)\n",
    "print(\"sample2 deep2 out\")\n",
    "print(sample2_deep2_out.numpy())\n",
    "\n",
    "\n"
   ]
  },
  {
   "cell_type": "code",
   "execution_count": 78,
   "metadata": {},
   "outputs": [
    {
     "output_type": "stream",
     "name": "stdout",
     "text": [
      "sample1 pred\ntf.Tensor([[0.47139162]], shape=(1, 1), dtype=float32)\nsample2 pred\ntf.Tensor([[0.48843443]], shape=(1, 1), dtype=float32)\n"
     ]
    }
   ],
   "source": [
    "# final sigmoid out\n",
    "sample1_pred = tf.nn.sigmoid(sample1_fm_out+sample1_deep2_out)\n",
    "print(\"sample1 pred\")\n",
    "print(sample1_pred)\n",
    "\n",
    "sample2_pred = tf.nn.sigmoid(sample2_fm_out+sample2_deep2_out)\n",
    "print(\"sample2 pred\")\n",
    "print(sample2_pred)"
   ]
  },
  {
   "cell_type": "code",
   "execution_count": null,
   "metadata": {},
   "outputs": [],
   "source": []
  }
 ]
}